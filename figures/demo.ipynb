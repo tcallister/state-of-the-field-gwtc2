{
 "cells": [
  {
   "cell_type": "code",
   "execution_count": 5,
   "metadata": {
    "Collapsed": "false"
   },
   "outputs": [],
   "source": [
    "import numpy as np\n",
    "import sys\n",
    "sys.path.append('./../')\n",
    "from binary import *\n",
    "from makePop_while import *\n",
    "import matplotlib.pyplot as plt\n",
    "\n",
    "plt.rc('text', usetex=True)\n",
    "plt.rc('font', **{'family': 'serif', 'serif': ['Computer Modern']})"
   ]
  },
  {
   "cell_type": "code",
   "execution_count": 6,
   "metadata": {
    "Collapsed": "false"
   },
   "outputs": [],
   "source": [
    "def trial_kick(sig_plane,mu_perp,sig_perp):\n",
    "\n",
    "    vk_x = np.random.normal(loc=0.,scale=sig_plane)\n",
    "    vk_y = np.random.normal(loc=0.,scale=sig_plane)\n",
    "\n",
    "    # Perpendicular kick\n",
    "    vk_z = np.random.normal(loc=mu_perp,scale=sig_perp)\n",
    "\n",
    "    return vk_x,vk_y,vk_z"
   ]
  },
  {
   "cell_type": "code",
   "execution_count": 7,
   "metadata": {
    "Collapsed": "false"
   },
   "outputs": [
    {
     "name": "stdout",
     "output_type": "stream",
     "text": [
      "377479.7859042086\n"
     ]
    }
   ],
   "source": [
    "mMax = 75.\n",
    "mMin = 5.\n",
    "bq = 1.3\n",
    "alpha = -2.2\n",
    "\n",
    "n=30000\n",
    "    \n",
    "# Tilt angles\n",
    "t1 = genTruncatedNorm(n,0,0.*np.pi/180.,-np.pi,np.pi)\n",
    "t2 = genTruncatedNorm(n,0,0.*np.pi/180.,-np.pi,np.pi)\n",
    "\n",
    "# Azimuthal angles\n",
    "phi1 = 2.*np.pi*np.random.random(n)\n",
    "phi2 = 2.*np.pi*np.random.random(n)\n",
    "\n",
    "# Spin magnitudes\n",
    "a1 = np.zeros(n)\n",
    "a2 = genTruncatedNorm(n,0.3,0.2,0,1)\n",
    "\n",
    "# Masses\n",
    "beta = 1.\n",
    "m1 = np.power((mMax**(1.+alpha)-mMin**(1.+alpha))*np.random.random(n) + mMin**(1.+alpha),1./(1.+alpha))\n",
    "m2 = np.power((m1**(1.+bq)-mMin**(1.+bq))*np.random.random(n)+mMin**(1.+bq),1./(1.+bq))/beta\n",
    "#m2 = np.random.normal(size=n,loc=m1,scale=5.)\n",
    "#m2 = np.random.random(n)*(mMax-mMin)+mMin\n",
    "\n",
    "# Separation\n",
    "sep = 10.**(np.log10(5.) + (np.log10(300)-np.log10(5.))*np.random.random(n))\n",
    "\n",
    "#period = 10.**(3.*np.random.random(n)-1)*24.*3600\n",
    "#sep = np.power(G*(m1+m2)*Msun*period**2./(4.*np.pi**2.),1./3.)/Rsun\n",
    "\n",
    "binaries = np.array([binary(m1[i],m2[i],a1[i],a2[i],t1[i],t2[i],phi1[i],phi2[i],sep[i]*Rsun) for i in range(n)])\n",
    "print(np.mean([b.v_orb() for b in binaries]))\n",
    "chiEff_initial = np.array([b.chi_effective() for b in binaries])\n",
    "chiP_initial = np.array([b.chi_p() for b in binaries])\n",
    "\n",
    "survived = np.array([b.kick(random_kick(400.,400.),beta) for b in binaries])\n",
    "mergerTimes = np.array([b.time_to_merger() for b in binaries])/1e10/year\n",
    "bound = (survived==1)\n",
    "successful = ((survived==1)*(mergerTimes<1))\n",
    "\n",
    "chiEff_post = np.array([b.chi_effective() for b in binaries])\n",
    "chiP_post = np.array([b.chi_p() for b in binaries])\n",
    "\n",
    "chiEff_bound = np.array([b.chi_effective() for b in binaries[bound]])\n",
    "chiP_bound = np.array([b.chi_p() for b in binaries[bound]])\n",
    "\n",
    "chiEff_success = np.array([b.chi_effective() for b in binaries[successful]])\n",
    "chiP_success = np.array([b.chi_p() for b in binaries[successful]])"
   ]
  },
  {
   "cell_type": "code",
   "execution_count": 10,
   "metadata": {
    "Collapsed": "false"
   },
   "outputs": [
    {
     "data": {
      "image/png": "[encoded data removed]",
      "text/plain": [
       "<Figure size 720x288 with 2 Axes>"
      ]
     },
     "metadata": {
      "needs_background": "light"
     },
     "output_type": "display_data"
    }
   ],
   "source": [
    "fig = plt.figure(figsize=(10.,4))\n",
    "\n",
    "ax = fig.add_subplot(121)\n",
    "ax.hist(chiEff_initial,bins=np.linspace(-0.5,0.5,40),density=True,\n",
    "        edgecolor='black',color='#377eb8',histtype='stepfilled',label='Pre-Kick')\n",
    "ax.hist(chiEff_bound,bins=np.linspace(-0.5,0.5,40),alpha=0.8,histtype='stepfilled',\n",
    "        edgecolor='black',color='#4daf4a',density=True,label='Successful Mergers')\n",
    "\n",
    "ax.xaxis.grid(True,which='major',ls=':',color='grey')\n",
    "ax.yaxis.grid(True,which='major',ls=':',color='grey')\n",
    "ax.set_xlim(-0.6,0.5)\n",
    "ax.tick_params(direction=\"in\")\n",
    "ax.tick_params(labelsize=12)\n",
    "ax.set_xlabel(r'$\\chi_\\mathrm{eff}$',fontsize=16)\n",
    "ax.set_ylabel(r'$p(\\chi_\\mathrm{eff})$',fontsize=16)\n",
    "\n",
    "ax.legend(loc='upper left',frameon=False,fontsize=14)\n",
    "\n",
    "\n",
    "ax = fig.add_subplot(122)\n",
    "ax.hist(chiP_initial,bins=np.linspace(0,1,40),density=True,\n",
    "        edgecolor='black',color='#377eb8',histtype='stepfilled',label='Pre-Kick')\n",
    "\n",
    "ax.hist(chiP_bound,bins=np.linspace(0,1,40),alpha=0.8,histtype='stepfilled',\n",
    "        edgecolor='black',color='#4daf4a',density=True,label='Successful Mergers')\n",
    "\n",
    "ax.xaxis.grid(True,which='major',ls=':',color='grey')\n",
    "ax.yaxis.grid(True,which='major',ls=':',color='grey')\n",
    "ax.set_xlim(0.,0.8)\n",
    "\n",
    "ax.tick_params(labelsize=12)\n",
    "ax.set_xlabel(r'$\\chi_\\mathrm{p}$',fontsize=16)\n",
    "ax.set_ylabel(r'$p(\\chi_\\mathrm{p})$',fontsize=16)\n",
    "ax.tick_params(direction=\"in\")\n",
    "ax.legend(loc='upper right',frameon=False,fontsize=14)\n",
    "\n",
    "plt.tight_layout()\n",
    "plt.savefig('demo_initialAlignment.pdf',bbox_inches='tight')\n",
    "plt.show()"
   ]
  },
  {
   "cell_type": "code",
   "execution_count": null,
   "metadata": {
    "Collapsed": "false"
   },
   "outputs": [],
   "source": [
    "survived[survived==True].size"
   ]
  },
  {
   "cell_type": "code",
   "execution_count": 69,
   "metadata": {
    "Collapsed": "false"
   },
   "outputs": [],
   "source": [
    "m1_direct = np.array([b.m1 for b in binaries[successful]])\n",
    "m2_direct = np.array([b.m2 for b in binaries[successful]])"
   ]
  },
  {
   "cell_type": "code",
   "execution_count": 121,
   "metadata": {
    "Collapsed": "false"
   },
   "outputs": [],
   "source": [
    "m1_ej = np.array([b.m1 for b in binaries[successful]])\n",
    "m2_ej = np.array([b.m2 for b in binaries[successful]])"
   ]
  },
  {
   "cell_type": "code",
   "execution_count": 122,
   "metadata": {
    "Collapsed": "false"
   },
   "outputs": [
    {
     "data": {
      "image/png": "[encoded data removed]",
      "text/plain": [
       "<Figure size 432x288 with 1 Axes>"
      ]
     },
     "metadata": {
      "needs_background": "light"
     },
     "output_type": "display_data"
    },
    {
     "data": {
      "image/png": "[encoded data removed]",
      "text/plain": [
       "<Figure size 432x288 with 1 Axes>"
      ]
     },
     "metadata": {
      "needs_background": "light"
     },
     "output_type": "display_data"
    }
   ],
   "source": [
    "plt.hist(m2_direct/m1_direct,bins=20,density=True)\n",
    "plt.hist(np.minimum(m2_ej,m1_ej)/np.maximum(m2_ej,m1_ej),bins=20,density=True,histtype='step')\n",
    "plt.show()\n",
    "\n",
    "plt.hist(m1,bins=20,density=True)\n",
    "plt.hist(m1_ej,bins=20,density=True,histtype='step')\n",
    "plt.show()"
   ]
  },
  {
   "cell_type": "code",
   "execution_count": 34,
   "metadata": {
    "Collapsed": "false"
   },
   "outputs": [
    {
     "data": {
      "text/plain": [
       "array([0.22496912, 0.25729149, 0.27434008, 0.28022746, 0.19136251,\n",
       "       0.20698083, 0.23239218, 0.21448177, 0.22104063, 0.25589056,\n",
       "       0.27098259, 0.22338481, 0.15454988, 0.12710037, 0.2059835 ,\n",
       "       0.24555802, 0.23718128, 0.25360202, 0.1281252 , 0.26659225,\n",
       "       0.28051595, 0.24314622, 0.26409433, 0.28037111, 0.24408293,\n",
       "       0.27782381, 0.21979494, 0.27231773, 0.25699083, 0.23300389,\n",
       "       0.25528478, 0.24748731, 0.26128804, 0.24015865, 0.23341857,\n",
       "       0.1230952 , 0.22996918, 0.23103059, 0.28004293, 0.12727271,\n",
       "       0.10115747, 0.27569433, 0.23585841, 0.22190754, 0.2464304 ,\n",
       "       0.13510913, 0.13490149, 0.25924811, 0.19845906, 0.28095037,\n",
       "       0.27974593, 0.24580501, 0.22692225, 0.23113686, 0.27019294,\n",
       "       0.28108359, 0.25501029, 0.11682401, 0.24862082, 0.24596816,\n",
       "       0.20946261, 0.25645554, 0.24571729, 0.27495728, 0.23657063,\n",
       "       0.23096463, 0.26744809, 0.27498532, 0.23597285, 0.27590712,\n",
       "       0.22346311, 0.25406335, 0.20469847, 0.13434882, 0.26283391,\n",
       "       0.21053791, 0.27551407, 0.2330441 , 0.26001611, 0.24147484,\n",
       "       0.20880652, 0.25816434, 0.26269599, 0.23942427, 0.2212812 ,\n",
       "       0.27197719, 0.25791093, 0.22158222, 0.26618373, 0.26574382,\n",
       "       0.17539282, 0.19756408, 0.25985894, 0.24052483, 0.25999523,\n",
       "       0.18346847, 0.2666949 , 0.27893494, 0.28120416, 0.26042979,\n",
       "       0.26795376, 0.27698751, 0.25608624, 0.22180457, 0.28022927,\n",
       "       0.14210334, 0.16708255, 0.2807792 , 0.27462255, 0.27132312,\n",
       "       0.22915797, 0.26415636, 0.25580672, 0.26086749, 0.22119171,\n",
       "       0.27921806, 0.25057421, 0.24121758, 0.27433928, 0.27738538,\n",
       "       0.24802789, 0.25403643, 0.22207575, 0.20743438, 0.26431951,\n",
       "       0.26560249, 0.26830737, 0.28009918, 0.27953469, 0.27855393,\n",
       "       0.20376959, 0.26354097, 0.28014643, 0.27446373, 0.27495309,\n",
       "       0.27122222, 0.26880047, 0.27969354, 0.21243824, 0.2163574 ,\n",
       "       0.26557394, 0.27901008, 0.25415449, 0.28081925, 0.26381896,\n",
       "       0.2613436 , 0.26287408, 0.25495404, 0.26663366, 0.18975726,\n",
       "       0.20159863, 0.2387075 , 0.25876119, 0.25763855, 0.22968127,\n",
       "       0.21179529, 0.24834886, 0.21111464, 0.25418122, 0.21333854,\n",
       "       0.19005432, 0.16858319, 0.18692104, 0.27919301, 0.2775342 ,\n",
       "       0.22420866, 0.2607238 , 0.27593627, 0.22113447, 0.25216386,\n",
       "       0.26919122, 0.20953632, 0.27448247, 0.27318618, 0.2729779 ,\n",
       "       0.26032851, 0.23531014, 0.25954737, 0.24037663, 0.27735536,\n",
       "       0.20053023, 0.25850291, 0.27965626, 0.26020403, 0.25900346,\n",
       "       0.2160421 , 0.23565456, 0.26282261, 0.23514623, 0.25522195,\n",
       "       0.25917059, 0.21523258, 0.26407491, 0.27228357, 0.27450712,\n",
       "       0.22552537, 0.22972754, 0.27691517, 0.27113187, 0.28050705,\n",
       "       0.25919659, 0.1510735 , 0.27673601, 0.20611354, 0.17754035,\n",
       "       0.16521186, 0.25623855, 0.27444551, 0.21530417, 0.2736177 ,\n",
       "       0.23206405, 0.23123344, 0.24114565, 0.28117152, 0.27214669,\n",
       "       0.27168405, 0.18368056, 0.2741601 , 0.22985489, 0.27484355,\n",
       "       0.25922941, 0.19167993, 0.27294711, 0.25579457, 0.24609685,\n",
       "       0.22367106, 0.22894784, 0.18809256, 0.2428133 , 0.26470769,\n",
       "       0.27560928, 0.22726294, 0.23308838, 0.28009788, 0.27180681,\n",
       "       0.25999932, 0.27822372, 0.27832415, 0.27025339, 0.27596973,\n",
       "       0.25379024, 0.24463762, 0.26865436, 0.22940147, 0.27942294,\n",
       "       0.20808709, 0.17887362, 0.26924204, 0.24962377, 0.27732587,\n",
       "       0.0797478 , 0.24924745, 0.23669385, 0.22942459, 0.22032247,\n",
       "       0.18669649, 0.14421689, 0.27994631, 0.27296623, 0.2442538 ,\n",
       "       0.2781262 , 0.20010837, 0.27548484, 0.14434399, 0.26935472,\n",
       "       0.28122165, 0.25972326, 0.24984685, 0.20762252, 0.27766375,\n",
       "       0.25812144, 0.25091088, 0.27396866, 0.23945252, 0.26913294,\n",
       "       0.26670759, 0.26552044, 0.20021513, 0.27681667, 0.27141815,\n",
       "       0.22090358, 0.28078987, 0.28018694, 0.21909276, 0.1499532 ,\n",
       "       0.19744178, 0.27696374, 0.26302241, 0.26870699, 0.25118311,\n",
       "       0.26544634, 0.28085589, 0.27430197, 0.26141951, 0.2082383 ,\n",
       "       0.21137065, 0.20214112, 0.26367818, 0.27457741, 0.28097917,\n",
       "       0.20077057, 0.22152196, 0.27320025, 0.27765235, 0.22660899,\n",
       "       0.26694948, 0.25247918, 0.24522344, 0.26715244, 0.22771253,\n",
       "       0.27906838, 0.18965708, 0.27008004, 0.27080465, 0.24861617,\n",
       "       0.22214638, 0.2629075 , 0.24024631, 0.23368131, 0.24090917,\n",
       "       0.16698911, 0.27324795, 0.21480418, 0.27932238, 0.19634627,\n",
       "       0.2744463 , 0.24279357, 0.27868645, 0.26446829, 0.19144057,\n",
       "       0.27895193, 0.20045265, 0.2807832 , 0.2422342 , 0.26355432,\n",
       "       0.23973521, 0.1963278 , 0.27351163, 0.26911692, 0.2722106 ,\n",
       "       0.23632785, 0.27917824, 0.25042068, 0.26226621, 0.27965769,\n",
       "       0.23379553, 0.28112319, 0.27466702, 0.22909328, 0.1344109 ,\n",
       "       0.23123616, 0.26648855, 0.27979967, 0.27688066, 0.16425982,\n",
       "       0.20219043, 0.25697807, 0.22204602, 0.23139899, 0.24977517,\n",
       "       0.26264568, 0.20686956, 0.27642384, 0.27875134, 0.27834783,\n",
       "       0.23004346, 0.25049719, 0.26899252, 0.2788543 , 0.10554107,\n",
       "       0.27780967, 0.26044719, 0.25261613, 0.27524316, 0.26180806,\n",
       "       0.14883776, 0.26484027, 0.27576305, 0.21122578, 0.25660922,\n",
       "       0.27878982, 0.24940235, 0.23249421, 0.20440342, 0.27116044,\n",
       "       0.26655321, 0.27784575, 0.27708649, 0.26526527, 0.2778676 ,\n",
       "       0.27726275, 0.27540348, 0.27648306, 0.26283068, 0.21292418,\n",
       "       0.27639937, 0.27160202, 0.27536593, 0.27916217, 0.25748492,\n",
       "       0.26826382, 0.21561194, 0.25129762, 0.25299226, 0.23802661,\n",
       "       0.27549522, 0.24909975, 0.19413444, 0.27056553, 0.27427413,\n",
       "       0.21173021, 0.27842042, 0.25883301, 0.23273686, 0.26747138,\n",
       "       0.2286306 , 0.26953213, 0.26461807, 0.26868516, 0.20093829,\n",
       "       0.26505591, 0.16790516, 0.11560752, 0.25179591, 0.27123087,\n",
       "       0.26845685, 0.27807615, 0.16952579, 0.27960815, 0.27650224,\n",
       "       0.26669244, 0.2715509 , 0.26781217, 0.22203424, 0.25119031,\n",
       "       0.26016961, 0.19556797, 0.27918717, 0.27770863, 0.25678613,\n",
       "       0.24615688, 0.27852622, 0.26129016, 0.27960124, 0.22863627,\n",
       "       0.25490717, 0.21238017, 0.27341403, 0.21849601, 0.28053592,\n",
       "       0.27156921, 0.26983323, 0.26958735, 0.26789168, 0.26316948,\n",
       "       0.15352507, 0.22828212, 0.25373139, 0.24332138, 0.24751736,\n",
       "       0.19647844, 0.21473014, 0.27425416, 0.26459775, 0.22036476,\n",
       "       0.2157883 , 0.26383705, 0.17216068, 0.27125437, 0.22335217,\n",
       "       0.26032333, 0.26864405, 0.2288929 , 0.26700848, 0.27616859,\n",
       "       0.25494465, 0.25665464, 0.27827432, 0.24873876, 0.19245463,\n",
       "       0.25580283, 0.11082442, 0.18703508, 0.22991121, 0.27044582,\n",
       "       0.27523103, 0.27222186, 0.27614159, 0.26374744, 0.25682467,\n",
       "       0.26486214, 0.27037524, 0.26187334, 0.26224981, 0.26830368,\n",
       "       0.23084026, 0.2800571 , 0.25814894, 0.27236106, 0.27800596,\n",
       "       0.24324788, 0.28011068, 0.13739873, 0.22739851, 0.26770861,\n",
       "       0.21986573, 0.2365433 , 0.26157375, 0.23496535, 0.28033566,\n",
       "       0.25150056, 0.18329415, 0.26939265, 0.26627909, 0.26386699,\n",
       "       0.27555738, 0.24697351, 0.26572001, 0.2662428 , 0.2152604 ,\n",
       "       0.20472797, 0.26390447, 0.27763089, 0.25689222, 0.25875267,\n",
       "       0.26132003, 0.24414924, 0.26482046, 0.23856539, 0.26410859,\n",
       "       0.1557857 , 0.26839022, 0.16525962, 0.2415478 , 0.26521807,\n",
       "       0.27779707, 0.21820872, 0.22078157, 0.24068091, 0.28037426,\n",
       "       0.27793588, 0.25811467, 0.2233032 , 0.26750346, 0.24092065,\n",
       "       0.28071953, 0.27195093, 0.26136269, 0.26521008, 0.23476188,\n",
       "       0.26832155, 0.27078891, 0.22912161, 0.2450739 , 0.28082797,\n",
       "       0.26100375, 0.27931742, 0.27719605, 0.27830264, 0.22631652,\n",
       "       0.26694318, 0.26567711, 0.25984725, 0.2550968 , 0.23467068,\n",
       "       0.2686271 , 0.2713461 , 0.22664888, 0.19432381, 0.26561126,\n",
       "       0.27822816, 0.27600423, 0.27982816, 0.16752914, 0.25039304,\n",
       "       0.2689725 , 0.28001907])"
      ]
     },
     "execution_count": 34,
     "metadata": {},
     "output_type": "execute_result"
    }
   ],
   "source": [
    "0.75*m2_ej/(m2_ej/0.75+m1_ej)"
   ]
  },
  {
   "cell_type": "code",
   "execution_count": null,
   "metadata": {
    "Collapsed": "false"
   },
   "outputs": [],
   "source": []
  }
 ],
 "metadata": {
  "kernelspec": {
   "display_name": "igwn-py37",
   "language": "python",
   "name": "igwn-py37"
  },
  "language_info": {
   "codemirror_mode": {
    "name": "ipython",
    "version": 3
   },
   "file_extension": ".py",
   "mimetype": "text/x-python",
   "name": "python",
   "nbconvert_exporter": "python",
   "pygments_lexer": "ipython3",
   "version": "3.7.6"
  }
 },
 "nbformat": 4,
 "nbformat_minor": 4
}
