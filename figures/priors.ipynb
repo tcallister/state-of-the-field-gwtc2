{
 "cells": [
  {
   "cell_type": "code",
   "execution_count": 1,
   "metadata": {
    "Collapsed": "false"
   },
   "outputs": [],
   "source": [
    "import numpy as np\n",
    "from scipy.stats import gaussian_kde\n",
    "from scipy.interpolate import interp1d\n",
    "from scipy.interpolate import UnivariateSpline\n",
    "import h5py\n",
    "import astropy.cosmology as cosmo\n",
    "import astropy.units as u\n",
    "from astropy.cosmology import Planck15\n",
    "import matplotlib.pyplot as plt"
   ]
  },
  {
   "cell_type": "markdown",
   "metadata": {
    "Collapsed": "false"
   },
   "source": [
    "The LALInference prior is uniform in *luminosity* distance, and uniform in *detector-frame* component masses. This corresponds to:\n",
    "\n",
    "\\begin{equation}\n",
    "p_\\mathrm{lal}(m_1,m_2,z) \\propto (1+z)^2 D_L^2(z) \\left( D_c(z) + \\frac{c(1+z)}{H(z)}\\right),\n",
    "\\end{equation}\n",
    "\n",
    "where $D_L(z)$ and $D_c(z)$ are the luminosity and comoving distance at redshift $z$, respectively, and $H(z)$ is the Hubble parameter at $z$. We'll want to divide this out, in order to (eventually) reweight to proposed mass/redshift distributions.\n",
    "\n",
    "First, define data to interpolate back and forth between luminosity distance and redshift:"
   ]
  },
  {
   "cell_type": "code",
   "execution_count": 3,
   "metadata": {
    "Collapsed": "false"
   },
   "outputs": [
    {
     "data": {
      "image/png": "[encoded data removed]",
      "text/plain": [
       "<Figure size 432x288 with 1 Axes>"
      ]
     },
     "metadata": {
      "needs_background": "light"
     },
     "output_type": "display_data"
    }
   ],
   "source": [
    "zs_ref = np.linspace(0.,3.,1000)\n",
    "DL_ref = Planck15.luminosity_distance(zs_ref).to(u.Mpc).value\n",
    "\n",
    "fig,ax = plt.subplots()\n",
    "ax.plot(zs_ref,DL_ref)\n",
    "ax.set_xlabel('Redshift')\n",
    "ax.set_ylabel('Luminosity Distance (Mpc)')\n",
    "plt.show()"
   ]
  },
  {
   "cell_type": "markdown",
   "metadata": {
    "Collapsed": "false"
   },
   "source": [
    "Then define the LALInference prior on redshift"
   ]
  },
  {
   "cell_type": "code",
   "execution_count": 4,
   "metadata": {
    "Collapsed": "false"
   },
   "outputs": [],
   "source": [
    "c = 3.0e8          # m/s\n",
    "H_0 = 67270.0      # m/s/MPc\n",
    "Omega_M = 0.3156 # unitless\n",
    "Omega_Lambda = 1.0-Omega_M\n",
    "\n",
    "def Hz(z):\n",
    "    return H_0*np.sqrt(Omega_M*(1.+z)**3.+Omega_Lambda)\n",
    "\n",
    "def calculate_pLAL(z, dl):\n",
    "    dc = dl/(1.+z) # comoving distance \n",
    "    pLAL = np.power(1.+z,2.)*np.power(dl,2.)*(dc+c*(1.+z)/Hz(z))\n",
    "    return pLAL"
   ]
  },
  {
   "cell_type": "code",
   "execution_count": null,
   "metadata": {
    "Collapsed": "false"
   },
   "outputs": [],
   "source": []
  }
 ],
 "metadata": {
  "kernelspec": {
   "display_name": "igwn-py37",
   "language": "python",
   "name": "igwn-py37"
  },
  "language_info": {
   "codemirror_mode": {
    "name": "ipython",
    "version": 3
   },
   "file_extension": ".py",
   "mimetype": "text/x-python",
   "name": "python",
   "nbconvert_exporter": "python",
   "pygments_lexer": "ipython3",
   "version": "3.7.6"
  }
 },
 "nbformat": 4,
 "nbformat_minor": 4
}
