{
 "cells": [
  {
   "cell_type": "code",
   "execution_count": 1,
   "metadata": {
    "Collapsed": "false"
   },
   "outputs": [],
   "source": [
    "import numpy as np\n",
    "import sys\n",
    "import matplotlib.pyplot as plt"
   ]
  },
  {
   "cell_type": "code",
   "execution_count": 2,
   "metadata": {
    "Collapsed": "false"
   },
   "outputs": [],
   "source": [
    "# Madau & Dickinson SFR at z=0\n",
    "SFR = 1e-2 # Msun/yr/Mpc^3\n",
    "\n",
    "# Convert to Msun/yr/Gpc^3\n",
    "SFR *= 1e9"
   ]
  },
  {
   "cell_type": "markdown",
   "metadata": {
    "Collapsed": "false"
   },
   "source": [
    "Assume a Salpeter IMF, normalized above 0.5 Msun:\n",
    "\n",
    "$$\n",
    "\\frac{dP}{dm} = \\frac{-(1+\\lambda)}{(0.5\\,M_\\odot)^{1+\\lambda}} m^\\lambda\n",
    "$$\n",
    "\n",
    "with $\\lambda=-2.35$. Note that the SFR ($\\frac{dM}{dtdV}$) is related to the number density $\\frac{dN}{dtdV}$ by\n",
    "\n",
    "$$\n",
    "\\begin{aligned}\n",
    "\\frac{dM}{dt\\,dV} &= \\int dM \\frac{dN}{dt\\,dV\\,dM} M \\\\\n",
    "&= \\int dM \\frac{dN}{dt\\,dV} \\frac{dP}{dm} M,\n",
    "\\end{aligned}\n",
    "$$\n",
    "\n",
    "So\n",
    "\n",
    "$$\n",
    "\\frac{dN}{dt\\,dV} = \\frac{\\frac{dM}{dt\\,dV}}{\\int dM p(M) M}\n",
    "$$\n",
    "\n",
    "Now, the number of stars formed per mass interval $dM$ is\n",
    "\n",
    "$$\n",
    "\\begin{aligned}\n",
    "\\frac{dN}{dt\\,dV\\,dM} &= \\frac{dN}{dt\\,dV} p(M) \\\\\n",
    "&= p(M) \\frac{\\frac{dM}{dt\\,dV}}{\\int dM' p(M') M'}\n",
    "\\end{aligned}\n",
    "$$\n",
    "\n",
    "Hence the number density of high-mass stellar formation is\n",
    "\n",
    "$$\n",
    "\\frac{dN}{dt\\,dV}_{\\mathrm{high}} = \\frac{dM}{dt\\,dV} \\frac{\\int_\\mathrm{high}dM' p(M')}{\\int dM'' p(M'') M''}\n",
    "$$"
   ]
  },
  {
   "cell_type": "code",
   "execution_count": 13,
   "metadata": {
    "Collapsed": "false"
   },
   "outputs": [
    {
     "name": "stdout",
     "output_type": "stream",
     "text": [
      "22024.710797991836\n"
     ]
    }
   ],
   "source": [
    "# Salpeter IMF, normalized above 0.5 Msun\n",
    "all_masses = np.linspace(0.5,500.,3000)\n",
    "p_ms_all = (1.-2.35)*all_masses**(-2.35)/(0.-0.5**(1.-2.35))\n",
    "\n",
    "# Assume that \"high mass\" means masses M>20\n",
    "high_masses = np.linspace(30,500.,3000)\n",
    "p_ms_high = (1.-2.35)*high_masses**(-2.35)/(0.-0.5**(1.-2.35))\n",
    "\n",
    "rate_highMass = SFR*np.trapz(p_ms_high,high_masses)/np.trapz(all_masses*p_ms_all,all_masses)\n",
    "print(rate_highMass)"
   ]
  },
  {
   "cell_type": "markdown",
   "metadata": {
    "Collapsed": "false"
   },
   "source": [
    "Conservatively assume a binary fraction of 1. This **overestimates** the high-mass binary rate, hence **underestimating** the BBH merger efficiency below."
   ]
  },
  {
   "cell_type": "code",
   "execution_count": 14,
   "metadata": {
    "Collapsed": "false"
   },
   "outputs": [
    {
     "name": "stdout",
     "output_type": "stream",
     "text": [
      "11012.355398995918\n"
     ]
    }
   ],
   "source": [
    "rate_highMass_binaries = rate_highMass/2.\n",
    "print(rate_highMass_binaries)"
   ]
  },
  {
   "cell_type": "markdown",
   "metadata": {
    "Collapsed": "false"
   },
   "source": [
    "If the observed BBH merger rate is $20\\,\\mathrm{Gpc}^{-3}\\,\\mathrm{yr}^{-1}$, then the overall efficiency $f$ with which high-mass stellar binaries yield BBH mergers is the following:"
   ]
  },
  {
   "cell_type": "code",
   "execution_count": 15,
   "metadata": {
    "Collapsed": "false"
   },
   "outputs": [
    {
     "name": "stdout",
     "output_type": "stream",
     "text": [
      "0.0018161418947506502\n"
     ]
    }
   ],
   "source": [
    "net_efficiency = 20./rate_highMass_binaries\n",
    "print(net_efficiency)"
   ]
  },
  {
   "cell_type": "code",
   "execution_count": null,
   "metadata": {
    "Collapsed": "false"
   },
   "outputs": [],
   "source": []
  }
 ],
 "metadata": {
  "kernelspec": {
   "display_name": "igwn-py37",
   "language": "python",
   "name": "igwn-py37"
  },
  "language_info": {
   "codemirror_mode": {
    "name": "ipython",
    "version": 3
   },
   "file_extension": ".py",
   "mimetype": "text/x-python",
   "name": "python",
   "nbconvert_exporter": "python",
   "pygments_lexer": "ipython3",
   "version": "3.7.6"
  }
 },
 "nbformat": 4,
 "nbformat_minor": 4
}
